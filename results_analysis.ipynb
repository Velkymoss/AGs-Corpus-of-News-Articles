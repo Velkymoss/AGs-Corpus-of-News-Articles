{
 "cells": [
  {
   "cell_type": "code",
   "execution_count": 1,
   "metadata": {},
   "outputs": [],
   "source": [
    "import pandas as pd\n",
    "from src.utils import get_idx2lbl_lbl2idx"
   ]
  },
  {
   "cell_type": "code",
   "execution_count": 2,
   "metadata": {},
   "outputs": [],
   "source": [
    "df = pd.read_csv('results/test_results.csv')"
   ]
  },
  {
   "cell_type": "code",
   "execution_count": 4,
   "metadata": {},
   "outputs": [],
   "source": [
    "entertainment = df[df['category'] == 'Entertainment']"
   ]
  },
  {
   "cell_type": "code",
   "execution_count": 8,
   "metadata": {},
   "outputs": [],
   "source": [
    "entertainment_false = entertainment[entertainment['predictions'] != entertainment['labels']]"
   ]
  },
  {
   "cell_type": "code",
   "execution_count": 25,
   "metadata": {},
   "outputs": [
    {
     "name": "stdout",
     "output_type": "stream",
     "text": [
      "title: Microsoft Q1 profit reaches \\$2.9 billiondescription: SAN FRANCISCO (CBS.MW) -- Microsoft said Thursday that its fiscal first-quarter net income rose 11 percent from a year earlier as client software sales, server revenue and Xbox sales all rose.\n"
     ]
    }
   ],
   "source": [
    "print(entertainment_false.article.iloc[10])"
   ]
  },
  {
   "cell_type": "code",
   "execution_count": 30,
   "metadata": {},
   "outputs": [],
   "source": [
    "top_stories = df[df['category'] == 'Top Stories']\n",
    "top_stories_false = top_stories[top_stories['predictions'] != top_stories['labels']]"
   ]
  },
  {
   "cell_type": "code",
   "execution_count": 37,
   "metadata": {},
   "outputs": [
    {
     "name": "stdout",
     "output_type": "stream",
     "text": [
      "title: Greek Lawyers Won #39;t Take Action Against  #39;Alexander #39;description: LOS ANGELES (Zap2it.com) - A group of Greek lawyers upset with what they considered a historical inaccuracy in the Oliver Stone epic  quot;Alexander, quot; has withdrawn its objections to the film.\n"
     ]
    }
   ],
   "source": [
    "print(top_stories_false.article.iloc[4])"
   ]
  },
  {
   "cell_type": "code",
   "execution_count": null,
   "metadata": {},
   "outputs": [],
   "source": []
  },
  {
   "cell_type": "code",
   "execution_count": null,
   "metadata": {},
   "outputs": [],
   "source": []
  }
 ],
 "metadata": {
  "kernelspec": {
   "display_name": "venv",
   "language": "python",
   "name": "python3"
  },
  "language_info": {
   "codemirror_mode": {
    "name": "ipython",
    "version": 3
   },
   "file_extension": ".py",
   "mimetype": "text/x-python",
   "name": "python",
   "nbconvert_exporter": "python",
   "pygments_lexer": "ipython3",
   "version": "3.10.12"
  }
 },
 "nbformat": 4,
 "nbformat_minor": 2
}
